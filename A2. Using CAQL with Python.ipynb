{
 "cells": [
  {
   "cell_type": "markdown",
   "metadata": {},
   "source": [
    "# Appendix 2: Using CAQL with Python\n",
    "\n",
    "We make use of the Python Data Fetching API for illustration purposes.\n",
    "\n",
    "* Code: https://github.com/circonus-labs/python-circonusapi\n",
    "* Blog: https://www.circonus.com/2018/05/less-toil-more-coil-telemetry-analysis-with-python/\n",
    "\n",
    "Using the API is not covered in this tutorial.\n",
    "Everything we do here can be done with the UI as well."
   ]
  },
  {
   "cell_type": "markdown",
   "metadata": {},
   "source": [
    "* ~~**TODO:** Make python-circonusapi installable via pip including circonusdata~~\n",
    "* **TODO:** Integrate plotting helper into circonusdata python lib"
   ]
  },
  {
   "cell_type": "markdown",
   "metadata": {},
   "source": [
    "To install the Python API wrapper run: \n",
    "```\n",
    "pip install circonusapi\n",
    "```"
   ]
  },
  {
   "cell_type": "markdown",
   "metadata": {},
   "source": [
    "You might want to also install `circllhist` to unlock histogram features. This requires a manual install of a C library. For an example setup see the Dockerfile."
   ]
  },
  {
   "cell_type": "code",
   "execution_count": 5,
   "metadata": {},
   "outputs": [
    {
     "name": "stdout",
     "output_type": "stream",
     "text": [
      "FROM jupyter/scipy-notebook\r\n",
      "\r\n",
      "MAINTAINER Heinrich Hartmann <heinrich@heinrichhartmann.com>\r\n",
      "\r\n",
      "USER root\r\n",
      "RUN apt-get update\r\n",
      "RUN apt-get upgrade -y\r\n",
      "RUN apt-get install -y\\\r\n",
      "    emacs \\\r\n",
      "    tmux \\\r\n",
      "    curl \\\r\n",
      "    less \\\r\n",
      "    man \\\r\n",
      "    autoconf \\\r\n",
      "    strace\r\n",
      "\r\n",
      "# install latest libcircllhist from sources\r\n",
      "RUN git clone https://github.com/circonus-labs/libcircllhist/ /tmp/libcircllhist &&\\\r\n",
      "    cd /tmp/libcircllhist &&\\\r\n",
      "    autoconf &&\\\r\n",
      "    ./configure --libdir /usr/lib/x86_64-linux-gnu/ &&\\\r\n",
      "    make && make install\r\n",
      "\r\n",
      "# Give $NB_USER passwordless sudo\r\n",
      "RUN printf \"$NB_USER\\tALL=(ALL)\\tNOPASSWD: ALL\" > /etc/sudoers.d/$NB_USER\r\n",
      "\r\n",
      "USER $NB_USER\r\n",
      "\r\n",
      "RUN pip install --upgrade pip\r\n",
      "\r\n",
      "RUN pip install \\\r\n",
      "    jupyter_contrib_nbextensions \\\r\n",
      "    jupyter_nbextensions_configurator \\\r\n",
      "    circonusapi \\\r\n",
      "    circllhist\r\n",
      "\r\n",
      "EXPOSE 9998\r\n",
      "EXPOSE 9999\r\n",
      "\r\n",
      "ADD cmd.sh ./\r\n",
      "\r\n",
      "CMD [\"./cmd.sh\"]\r\n"
     ]
    }
   ],
   "source": [
    "!cat Dockerfile"
   ]
  },
  {
   "cell_type": "markdown",
   "metadata": {},
   "source": [
    "# Example Usage"
   ]
  },
  {
   "cell_type": "code",
   "execution_count": 27,
   "metadata": {},
   "outputs": [],
   "source": [
    "%matplotlib inline\n",
    "import json, os\n",
    "from datetime import datetime\n",
    "\n",
    "# We make use of Pandas for plotting\n",
    "import pandas as pd\n",
    "\n",
    "# Import the circonusapi wrapper\n",
    "from circonusapi import circonusdata\n",
    "\n",
    "# We store our API tokens in a JSON file with structure:\n",
    "# { \"<account>\" : \"<token>\", ... }\n",
    "with open(os.path.expanduser(\"/work/.circonusrc.json\"),\"r\") as fh:\n",
    "    config = json.load(fh)\n",
    "\n",
    "## Fetch and plot a CAQL statement\n",
    "# returns matpotlib axes object\n",
    "def caql_plot(account, *args,**kwargs):\n",
    "    # 1. Initiate a connection object\n",
    "    circ = circonusdata.CirconusData(config[account])\n",
    "    # 2. Make a CAQL query\n",
    "    data=circ.caql(*args)\n",
    "    # 3. Wrap as pandas dataframe\n",
    "    df=pd.DataFrame(data)\n",
    "    # 4. [Optional] Setup a \"time\" index-colum\n",
    "    df['time']=pd.to_datetime(df['time'],unit='s')\n",
    "    df.set_index('time', inplace=True)\n",
    "    # 5. Plot!\n",
    "    return df.plot(figsize=(20,5), legend=False, lw=.8, **kwargs)"
   ]
  },
  {
   "cell_type": "code",
   "execution_count": 28,
   "metadata": {},
   "outputs": [],
   "source": [
    "from matplotlib import pyplot as plt\n",
    "\n",
    "# Plot a circllhist as bar chart\n",
    "def hist_plot(H,**kwargs):\n",
    "    x=[] # midpoints\n",
    "    h=[] # height\n",
    "    w=[] # widths\n",
    "    for b, c in H:\n",
    "        x.append(b.midpoint())\n",
    "        h.append(c / b.width())\n",
    "        w.append(b.width())\n",
    "    return plt.bar(x,h,w,**kwargs)\n",
    "\n",
    "# Fetch and plot a Circonus histograms\n",
    "def caql_hist_plot(account, *args, **kwargs):\n",
    "    fig = plt.figure(figsize=(20,5))\n",
    "    circ = circonusdata.CirconusData(config[account])\n",
    "    data = circ.caql(*args)\n",
    "    for H in data['output[0]']:\n",
    "        hist_plot(H, alpha=0.2, **kwargs)\n",
    "    return fig.get_axes()[0]"
   ]
  }
 ],
 "metadata": {
  "kernelspec": {
   "display_name": "Python 3",
   "language": "python",
   "name": "python3"
  },
  "language_info": {
   "codemirror_mode": {
    "name": "ipython",
    "version": 3
   },
   "file_extension": ".py",
   "mimetype": "text/x-python",
   "name": "python",
   "nbconvert_exporter": "python",
   "pygments_lexer": "ipython3",
   "version": "3.6.4"
  }
 },
 "nbformat": 4,
 "nbformat_minor": 2
}
