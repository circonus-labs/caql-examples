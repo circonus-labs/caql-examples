{
 "cells": [
  {
   "cell_type": "markdown",
   "metadata": {},
   "source": [
    "# First Steps with CAQL\n",
    "\n",
    "## Adding CAQL Datapoint to Graphs\n",
    "\n",
    "In order to add a CAQL Datapoint to a graph the following steps have to be taken:\n",
    "\n",
    "1. Menu Analytics>Graphs\n",
    "2. Click [New+]\n",
    "3. Enter Title. Click [Save]\n",
    "4. Click [CAQL]\n",
    "5. Expand Datapoint with [v]\n",
    "6. Select the query field (showing an error).\n",
    "7. Enter Query (with tooltip)  \n",
    "8. Deselect with [tab] to show results  \n",
    "\n",
    "The following figure illustrates the required steps:\n",
    "\n",
    "![](img/caql_graph.collage.png)"
   ]
  },
  {
   "cell_type": "markdown",
   "metadata": {},
   "source": [
    "This process is a little tedious. There are a number of improvements that could be taken:\n",
    "    \n",
    "- **TODO:** Make CAQL driven graphs a first-class concept, that is available from the Analytics menu (\"CAQL Explorer\")\n",
    "  All other datapoints classes: Metric, Metriccluster, Guide, Composite are covered by CAQL as well.\n",
    "- **TODO:** Don't show an error for empty queries. Just a hint? or silently return nils.\n",
    "- ~~**TODO:** Make the query field larger.~~\n",
    "- ~~**TODO:** Make that tooltip permanent~~\n",
    "- ~~**TODO:** Make a submit query button. [Shift Enter].~~\n"
   ]
  },
  {
   "cell_type": "markdown",
   "metadata": {},
   "source": [
    "## Using CAQL via the API / Python\n",
    "\n",
    "We make use of the Python Data Fetching API for illustration purposes.\n",
    "For more details on how to use the API see the Appendix to this Document.\n",
    "Everything we do here can also be done with CAQL in Circonus and Grafana/IRONdb graphs.\n",
    "The primary reason for doing so here, is so that I don't have manage so many screenshots."
   ]
  },
  {
   "cell_type": "code",
   "execution_count": 1,
   "metadata": {},
   "outputs": [],
   "source": [
    "%run preamble.py\n",
    "%matplotlib inline"
   ]
  },
  {
   "cell_type": "code",
   "execution_count": 5,
   "metadata": {},
   "outputs": [
    {
     "data": {
      "image/png": "[encoded data removed]",
      "text/plain": [
       "<matplotlib.figure.Figure at 0x7f2046fffcc0>"
      ]
     },
     "metadata": {},
     "output_type": "display_data"
    }
   ],
   "source": [
    "caql_plot(\"demo\", \"\"\"\n",
    "\n",
    "1+2\n",
    "\n",
    "\"\"\", datetime(2018,1,1), 60, 60*24*7);"
   ]
  },
  {
   "cell_type": "markdown",
   "metadata": {},
   "source": [
    "## Creating CAQL Checks\n",
    "\n",
    "Before creating a CAQL check you want to make sure you have created CAQL query is syntactically correct and works as expected on historic data.\n",
    "\n",
    "In order to create a CAQL check the following steps are involved.\n",
    "\n",
    "1. Select Integrations > Checks from the Menu\n",
    "2. Click [New+] to create a new Check\n",
    "3. Select [CAQL (BETA)]\n",
    "4. Click [Configure Check]\n",
    "5. Paste the CAQL query into the input field. Click [Test Check].\n",
    "6. Rename the check if needed. Click [Finish].  \n",
    "   Now the CAQL Check is created. The following steps ensure everything works as expected.\n",
    "7. Click [View Check]\n",
    "8. Click [View] for one of the output metrics.\n",
    "\n",
    "Once the CAQL Check is created two things will happen:\n",
    "\n",
    "1. The caql-broker will start evaluating the CAQL check as a standing query against incoming data.\n",
    "   The results should become visible in the next 2-3 minutes.\n",
    "   \n",
    "2. A backfill job is kicked off that will populate the last 30 days (by default) with computed CAQL data.\n",
    "   The results should become visibile in the next 1-2 minutes.\n",
    "   \n",
    "**CAVEAT:** There might be a tiny gap (1-2 Minutes) between the backfilled an the newly arrived data."
   ]
  },
  {
   "cell_type": "markdown",
   "metadata": {},
   "source": [
    "![](img/caql_check.collage.png)"
   ]
  },
  {
   "cell_type": "markdown",
   "metadata": {},
   "source": [
    "Ideally we would have a button: Create CAQL check, available from the general CAQL query editor (\"CAQL Explorer\").\n",
    "\n",
    "The following incremental improvements could be made to the check creation process:\n",
    "\n",
    "- **TODO:** Get rid of step 4.\n",
    "- **TODO:** Make sure metric values make it to the Checks page.\n",
    "- **TODO:** Improve the Query Editor. We should show a preview of the results."
   ]
  },
  {
   "cell_type": "markdown",
   "metadata": {},
   "source": [
    "## Alerting on CAQL Statements\n",
    "\n",
    "Alerting on CAQL statements can be realized using CAQL Checks.\n",
    "CAQL Checks emit metrics into the system that can be used for alerting.\n",
    "\n",
    "So for example, if you whish to alert when the disk is going to be full in 3 days time:\n",
    "\n",
    "1. Create a CAQL statement that forecasts the metric you are interested in, e.g.\n",
    "   ```\n",
    "   metric:average(<uuid>,\"df`/`percent_full\") | forcasting:slope(1h, 3d)\n",
    "   ```\n",
    "\n",
    "2. Create a CAQL check for that CAQL statment.\n",
    "\n",
    "3. Set an appropriate threshold-based alerting rule, e.g. when `output[1] > 100`\n",
    "\n",
    "There is nothing special about creating the alerting rule. The steps look as follows:\n",
    "\n",
    "1. Click Menu > Set Rules on the Metrics page.\n",
    "2. Click Menua > Add Rule\n",
    "3. Enter threshold information"
   ]
  },
  {
   "cell_type": "markdown",
   "metadata": {},
   "source": [
    "![](img/caql_rules.collage.png)"
   ]
  }
 ],
 "metadata": {
  "kernelspec": {
   "display_name": "Python 3",
   "language": "python",
   "name": "python3"
  },
  "language_info": {
   "codemirror_mode": {
    "name": "ipython",
    "version": 3
   },
   "file_extension": ".py",
   "mimetype": "text/x-python",
   "name": "python",
   "nbconvert_exporter": "python",
   "pygments_lexer": "ipython3",
   "version": "3.6.4"
  }
 },
 "nbformat": 4,
 "nbformat_minor": 2
}
