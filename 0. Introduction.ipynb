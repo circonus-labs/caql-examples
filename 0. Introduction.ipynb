{
 "cells": [
  {
   "cell_type": "markdown",
   "metadata": {},
   "source": [
    "# CAQL Handbook\n",
    "\n",
    "A thorough guide to the Circonus Analytics Language.\n",
    "\n",
    "by Heinrich Hartmann @ Circonus\n",
    "\n",
    "## Changelog\n",
    "\n",
    "* 2018-09-06 Updated for Customer Training\n",
    "* 2018-07-02 Created for Customer Training\n",
    "\n",
    "## About this document\n",
    "\n",
    "This document will give you an overview about the CAQL functionality illustrated with examples.\n",
    "\n",
    "Reference Documentation for the CAQL including Syntax rules and a complete list of functions can be found here:\n",
    "login.circonus.com/resources/docs/user/caql_reference.html\n",
    "\n",
    "In addition to documenting existing use cases and examples we also comment about open ends (\"TODO\") and warn about commen pitfalls (\"CAVEAT\"/\"WARNING\")."
   ]
  },
  {
   "cell_type": "markdown",
   "metadata": {},
   "source": [
    "## What is CAQL?\n",
    "\n",
    "- Domain specific language for stream processing\n",
    "- Enables Graphing and Alerting capabilities in Circonus\n",
    "- Good set of basic stream processing functions\n",
    "- Powerful composition capabilities"
   ]
  },
  {
   "cell_type": "markdown",
   "metadata": {},
   "source": [
    "## CAQL in the Circonus Architecture\n",
    "\n",
    "CAQL queries are evaluated at two places in the Circonus Architecture.\n",
    "The datastore IRONdb comes with a CAQL intepreter built in, so queries can be made against historic data.\n",
    "There is a separate stream analytics component called caql-broker that evaluates CAQL queries over the stream of incoming metric data.\n",
    "\n",
    "![](img/caql_architecture.png)"
   ]
  },
  {
   "cell_type": "markdown",
   "metadata": {},
   "source": [
    "## Some Use Case Examples\n",
    "\n",
    "* Basic Summary Statistics and Arithmetic\n",
    "  https://circonus-ops.circonus.com/trending/graphs/view/585337ee-8bc6-42c3-bcb4-1a6a333dc821\n",
    "\n",
    "* Data aggregation across time\n",
    "\n",
    "* Data aggregation across metrics\n",
    "\n",
    "* Computing Service Level Indicators/Objectives\n",
    "  - Computing accurate percentiles over time\n",
    "  - Alerting on Percentiles\n",
    "\n",
    "* Histogram Latency Analysis\n",
    "  https://demo.circonus.com/trending/graphs/view/1ee4e12e-5603-4d96-9c08-429051471731\n",
    "\n",
    "* Outlier Detection\n",
    "  https://www.circonus.com/casestudies/touchtunes/\n",
    "\n",
    "* Forecasting"
   ]
  }
 ],
 "metadata": {
  "kernelspec": {
   "display_name": "Python 3",
   "language": "python",
   "name": "python3"
  },
  "language_info": {
   "codemirror_mode": {
    "name": "ipython",
    "version": 3
   },
   "file_extension": ".py",
   "mimetype": "text/x-python",
   "name": "python",
   "nbconvert_exporter": "python",
   "pygments_lexer": "ipython3",
   "version": "3.6.4"
  }
 },
 "nbformat": 4,
 "nbformat_minor": 2
}
